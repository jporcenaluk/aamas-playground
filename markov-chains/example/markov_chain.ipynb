{
 "cells": [
  {
   "cell_type": "code",
   "execution_count": 86,
   "metadata": {},
   "outputs": [
    {
     "name": "stderr",
     "output_type": "stream",
     "text": [
      "7133.37s - pydevd: Sending message related to process being replaced timed-out after 5 seconds\n"
     ]
    },
    {
     "name": "stdout",
     "output_type": "stream",
     "text": [
      "Requirement already satisfied: matplotlib in /home/jporcenaluk/repos/aamas-playground/.venv/lib/python3.10/site-packages (3.8.4)\n",
      "Requirement already satisfied: seaborn in /home/jporcenaluk/repos/aamas-playground/.venv/lib/python3.10/site-packages (0.13.2)\n",
      "Requirement already satisfied: pandas in /home/jporcenaluk/repos/aamas-playground/.venv/lib/python3.10/site-packages (2.2.2)\n",
      "Requirement already satisfied: contourpy>=1.0.1 in /home/jporcenaluk/repos/aamas-playground/.venv/lib/python3.10/site-packages (from matplotlib) (1.2.1)\n",
      "Requirement already satisfied: cycler>=0.10 in /home/jporcenaluk/repos/aamas-playground/.venv/lib/python3.10/site-packages (from matplotlib) (0.12.1)\n",
      "Requirement already satisfied: fonttools>=4.22.0 in /home/jporcenaluk/repos/aamas-playground/.venv/lib/python3.10/site-packages (from matplotlib) (4.51.0)\n",
      "Requirement already satisfied: kiwisolver>=1.3.1 in /home/jporcenaluk/repos/aamas-playground/.venv/lib/python3.10/site-packages (from matplotlib) (1.4.5)\n",
      "Requirement already satisfied: numpy>=1.21 in /home/jporcenaluk/repos/aamas-playground/.venv/lib/python3.10/site-packages (from matplotlib) (1.26.4)\n",
      "Requirement already satisfied: packaging>=20.0 in /home/jporcenaluk/repos/aamas-playground/.venv/lib/python3.10/site-packages (from matplotlib) (24.0)\n",
      "Requirement already satisfied: pillow>=8 in /home/jporcenaluk/repos/aamas-playground/.venv/lib/python3.10/site-packages (from matplotlib) (10.3.0)\n",
      "Requirement already satisfied: pyparsing>=2.3.1 in /home/jporcenaluk/repos/aamas-playground/.venv/lib/python3.10/site-packages (from matplotlib) (3.1.2)\n",
      "Requirement already satisfied: python-dateutil>=2.7 in /home/jporcenaluk/repos/aamas-playground/.venv/lib/python3.10/site-packages (from matplotlib) (2.9.0.post0)\n",
      "Requirement already satisfied: pytz>=2020.1 in /home/jporcenaluk/repos/aamas-playground/.venv/lib/python3.10/site-packages (from pandas) (2024.1)\n",
      "Requirement already satisfied: tzdata>=2022.7 in /home/jporcenaluk/repos/aamas-playground/.venv/lib/python3.10/site-packages (from pandas) (2024.1)\n",
      "Requirement already satisfied: six>=1.5 in /home/jporcenaluk/repos/aamas-playground/.venv/lib/python3.10/site-packages (from python-dateutil>=2.7->matplotlib) (1.16.0)\n",
      "Note: you may need to restart the kernel to use updated packages.\n"
     ]
    }
   ],
   "source": [
    "%pip install matplotlib seaborn pandas --upgrade"
   ]
  },
  {
   "cell_type": "markdown",
   "metadata": {},
   "source": [
    "# Markov Chain\n",
    "\n",
    "Properties of a Markov Chain:\n",
    "\n",
    "1. memorylessness\n",
    "2. transition probability\n",
    "3. state space\n",
    "4. classification of states\n",
    "    * Transient vs. Recurrent\n",
    "        * Transient: non-zero probability the process will never return once it has left\n",
    "        * Recurrent: the process is certain to return eventually\n",
    "    * Periodic vs. Aperiodic\n",
    "        * Periodic: process can return to the state only at multiples of some integer larger than one\n",
    "        * Aperiodic: greatest common divisor of the length of time to return is one\n",
    "    * Absorbing: a state where you can't leave once you enter (the \"Hotel California\" of states if you will)"
   ]
  },
  {
   "cell_type": "code",
   "execution_count": 87,
   "metadata": {},
   "outputs": [],
   "source": [
    "import pandas as pd\n",
    "from enum import Enum\n",
    "import random\n",
    "\n",
    "\n",
    "class StateName(Enum):\n",
    "    AVERAGEMONT = \"Averagemont\"\n",
    "    CONTINUOPOLIS = \"Continuopolis\"\n",
    "    BAYESVILLE = \"Bayseville\"\n",
    "    DISCRETETOWN = \"Discretetown\"\n",
    "    EAST_VANDERMONDE = \"East Vandermonde\"\n",
    "\n",
    "states: dict[StateName, dict[StateName, float]] = {\n",
    "    StateName.AVERAGEMONT: {\n",
    "        StateName.CONTINUOPOLIS: (1 / 3),\n",
    "        StateName.BAYESVILLE: (1 / 3),\n",
    "        StateName.DISCRETETOWN: (1 / 3)\n",
    "    },\n",
    "    StateName.CONTINUOPOLIS: {\n",
    "        StateName.BAYESVILLE: 0.5,\n",
    "        StateName.AVERAGEMONT: 0.5\n",
    "    },\n",
    "    StateName.DISCRETETOWN: {\n",
    "        StateName.BAYESVILLE: 0.5,\n",
    "        StateName.AVERAGEMONT: 0.5\n",
    "    },\n",
    "    StateName.BAYESVILLE: {\n",
    "        StateName.AVERAGEMONT: 0.25,\n",
    "        StateName.CONTINUOPOLIS: 0.25,\n",
    "        StateName.DISCRETETOWN: 0.25,\n",
    "        StateName.EAST_VANDERMONDE: 0.25\n",
    "    },\n",
    "    StateName.EAST_VANDERMONDE: {\n",
    "        StateName.BAYESVILLE: 1\n",
    "    }\n",
    "}\n",
    "\n",
    "def state_transition(\n",
    "        current_state_name: StateName,           \n",
    "        states: dict[StateName, dict[StateName, float]]\n",
    "    ) -> StateName:\n",
    "    \"\"\"\n",
    "    Validates input (ensures next states add up to 1) and \n",
    "    returns next state (stochastic).\n",
    "    \"\"\"\n",
    "    next_state_candidates = states[current_state_name]\n",
    "    # validate\n",
    "    probabilities_tot = 0\n",
    "    probabilities_tot = sum(next_state_candidates.values())\n",
    "    if probabilities_tot != 1:\n",
    "        raise ValueError(\"State transitions probabilities don't add up to 1\")\n",
    "    # find next state\n",
    "    next_state_prob = random.random()\n",
    "    probability = 0\n",
    "    for candidate in next_state_candidates:\n",
    "        next_probability: float = next_state_candidates[candidate]\n",
    "        probability = probability + next_probability\n",
    "        if next_state_prob <= probability:\n",
    "            return candidate\n",
    "\n",
    "    \n"
   ]
  },
  {
   "cell_type": "code",
   "execution_count": 88,
   "metadata": {},
   "outputs": [
    {
     "name": "stdout",
     "output_type": "stream",
     "text": [
      "Bayseville\n",
      "Averagemont\n",
      "Bayseville\n",
      "Continuopolis\n",
      "Averagemont\n",
      "Bayseville\n",
      "Discretetown\n",
      "Bayseville\n",
      "East Vandermonde\n",
      "Bayseville\n",
      "Averagemont\n",
      "Continuopolis\n",
      "Bayseville\n",
      "Averagemont\n",
      "Bayseville\n",
      "Continuopolis\n",
      "Averagemont\n",
      "Bayseville\n",
      "East Vandermonde\n",
      "Bayseville\n",
      "East Vandermonde\n",
      "Bayseville\n",
      "Continuopolis\n",
      "Averagemont\n",
      "Bayseville\n",
      "Continuopolis\n",
      "Bayseville\n",
      "Averagemont\n",
      "Bayseville\n",
      "Discretetown\n",
      "Bayseville\n",
      "Averagemont\n",
      "Continuopolis\n",
      "Averagemont\n",
      "Discretetown\n",
      "Averagemont\n",
      "Bayseville\n",
      "Discretetown\n",
      "Averagemont\n",
      "Continuopolis\n",
      "Averagemont\n",
      "Bayseville\n",
      "Discretetown\n",
      "Bayseville\n",
      "Continuopolis\n",
      "Bayseville\n",
      "Averagemont\n",
      "Bayseville\n",
      "Continuopolis\n",
      "Averagemont\n",
      "Continuopolis\n",
      "Averagemont\n",
      "Continuopolis\n",
      "Averagemont\n",
      "Discretetown\n",
      "Averagemont\n",
      "Continuopolis\n",
      "Averagemont\n",
      "Bayseville\n",
      "Discretetown\n",
      "Bayseville\n",
      "Continuopolis\n",
      "Bayseville\n",
      "East Vandermonde\n",
      "Bayseville\n",
      "Averagemont\n",
      "Bayseville\n",
      "Continuopolis\n",
      "Averagemont\n",
      "Discretetown\n",
      "Averagemont\n",
      "Discretetown\n",
      "Averagemont\n",
      "Bayseville\n",
      "East Vandermonde\n",
      "Bayseville\n",
      "Discretetown\n",
      "Averagemont\n",
      "Continuopolis\n",
      "Averagemont\n",
      "Bayseville\n",
      "Discretetown\n",
      "Averagemont\n",
      "Continuopolis\n",
      "Bayseville\n",
      "Discretetown\n",
      "Averagemont\n",
      "Bayseville\n",
      "East Vandermonde\n",
      "Bayseville\n",
      "Continuopolis\n",
      "Bayseville\n",
      "Averagemont\n",
      "Bayseville\n",
      "Discretetown\n",
      "Averagemont\n",
      "Continuopolis\n",
      "Bayseville\n",
      "East Vandermonde\n",
      "Bayseville\n"
     ]
    }
   ],
   "source": [
    "iterations_max = 100\n",
    "iterations = range(0,iterations_max)\n",
    "current_state_name = StateName.AVERAGEMONT\n",
    "\n",
    "\n",
    "\n",
    "counts = {\n",
    "    StateName.AVERAGEMONT.value: {\n",
    "        \"count\": 0,\n",
    "        \"proportion\": 0\n",
    "    },\n",
    "    StateName.BAYESVILLE.value: {\n",
    "        \"count\": 0,\n",
    "        \"proportion\": 0\n",
    "    },\n",
    "    StateName.CONTINUOPOLIS.value: {\n",
    "        \"count\": 0,\n",
    "        \"proportion\": 0\n",
    "    },\n",
    "    StateName.DISCRETETOWN.value: {\n",
    "        \"count\": 0,\n",
    "        \"proportion\": 0\n",
    "    },\n",
    "    StateName.EAST_VANDERMONDE.value: {\n",
    "        \"count\": 0,\n",
    "        \"proportion\": 0\n",
    "    }\n",
    "}\n",
    "\n",
    "for i in iterations:\n",
    "    counts[current_state_name.value][\"count\"] = counts[current_state_name.value][\"count\"] + 1\n",
    "    counts[current_state_name.value][\"proportion\"] = counts[current_state_name.value][\"count\"] / iterations_max\n",
    "    current_state_name: StateName = state_transition(current_state_name, states)\n",
    "    print(current_state_name.value)"
   ]
  },
  {
   "cell_type": "code",
   "execution_count": 89,
   "metadata": {},
   "outputs": [
    {
     "data": {
      "text/plain": [
       "{'Averagemont': {'count': 29, 'proportion': 0.29},\n",
       " 'Bayseville': {'count': 33, 'proportion': 0.33},\n",
       " 'Continuopolis': {'count': 18, 'proportion': 0.18},\n",
       " 'Discretetown': {'count': 13, 'proportion': 0.13},\n",
       " 'East Vandermonde': {'count': 7, 'proportion': 0.07}}"
      ]
     },
     "execution_count": 89,
     "metadata": {},
     "output_type": "execute_result"
    }
   ],
   "source": [
    "counts"
   ]
  },
  {
   "cell_type": "code",
   "execution_count": 90,
   "metadata": {},
   "outputs": [
    {
     "data": {
      "image/png": "[encoded data removed]",
      "text/plain": [
       "<Figure size 640x480 with 1 Axes>"
      ]
     },
     "metadata": {},
     "output_type": "display_data"
    }
   ],
   "source": [
    "import seaborn as sns\n",
    "\n",
    "keys = list(counts.keys())\n",
    "count = list([value[\"count\"] for value in counts.values()])\n",
    "sns.barplot(counts, y=keys, x=count);"
   ]
  },
  {
   "cell_type": "code",
   "execution_count": 92,
   "metadata": {},
   "outputs": [
    {
     "data": {
      "image/png": "[encoded data removed]",
      "text/plain": [
       "<Figure size 640x480 with 1 Axes>"
      ]
     },
     "metadata": {},
     "output_type": "display_data"
    }
   ],
   "source": [
    "from seaborn import objects as so\n",
    "keys = list(counts.keys())\n",
    "proportions = list([value[\"proportion\"] for value in counts.values()])\n",
    "sns.barplot(counts, y=keys, x=proportions);"
   ]
  },
  {
   "cell_type": "code",
   "execution_count": null,
   "metadata": {},
   "outputs": [],
   "source": []
  }
 ],
 "metadata": {
  "kernelspec": {
   "display_name": ".venv",
   "language": "python",
   "name": "python3"
  },
  "language_info": {
   "codemirror_mode": {
    "name": "ipython",
    "version": 3
   },
   "file_extension": ".py",
   "mimetype": "text/x-python",
   "name": "python",
   "nbconvert_exporter": "python",
   "pygments_lexer": "ipython3",
   "version": "3.10.12"
  }
 },
 "nbformat": 4,
 "nbformat_minor": 2
}
